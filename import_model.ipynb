{
 "cells": [
  {
   "cell_type": "code",
   "id": "initial_id",
   "metadata": {
    "collapsed": true,
    "ExecuteTime": {
     "end_time": "2024-12-17T16:26:21.014654Z",
     "start_time": "2024-12-17T16:26:07.671882Z"
    }
   },
   "source": [
    "import tensorflow as tf\n",
    "print(\"TensorFlow version:\", tf.__version__)\n",
    "\n",
    "# Убедимся, что TensorFlow использует GPU (если доступен)\n",
    "physical_devices = tf.config.list_physical_devices('GPU')\n",
    "if physical_devices:\n",
    "    print(f\"GPU доступен: {physical_devices}\")\n",
    "    for device in physical_devices:\n",
    "        tf.config.experimental.set_memory_growth(device, True)\n",
    "else:\n",
    "    print(\"GPU не найден, используется CPU.\")\n",
    "    \n",
    "from tensorflow.keras import Sequential\n",
    "from tensorflow.keras.layers import Flatten, Dense, Reshape, Conv2D\n",
    "\n",
    "from tensorflow.keras.models import Sequential\n",
    "from tensorflow.keras.layers import Conv2D, MaxPooling2D, UpSampling2D, BatchNormalization"
   ],
   "outputs": [
    {
     "name": "stdout",
     "output_type": "stream",
     "text": [
      "TensorFlow version: 2.18.0\n",
      "GPU не найден, используется CPU.\n"
     ]
    }
   ],
   "execution_count": 1
  },
  {
   "metadata": {
    "ExecuteTime": {
     "end_time": "2024-12-17T16:29:51.557171Z",
     "start_time": "2024-12-17T16:29:50.261892Z"
    }
   },
   "cell_type": "code",
   "source": [
    "model = tf.keras.models.load_model(\"SAVED_MODELS/model_19.11.24_ds3_1.keras\")\n",
    "BUTCH_SIZE = 1 # Butch size\n",
    "IMG_SIZE = (128, 128)  # Img Size"
   ],
   "id": "2ac3d927e1b5b360",
   "outputs": [],
   "execution_count": 2
  },
  {
   "metadata": {
    "ExecuteTime": {
     "end_time": "2024-12-17T17:04:04.414352Z",
     "start_time": "2024-12-17T17:04:04.384347Z"
    }
   },
   "cell_type": "code",
   "source": [
    "import tensorflow as tf\n",
    "import matplotlib.pyplot as plt\n",
    "import numpy as np\n",
    "\n",
    "def predict_image(model, image_path, image_size=(128, 128)):\n",
    "    \"\"\"\n",
    "    Прогоняет изображение через модель для получения предсказания.\n",
    "    \n",
    "    Аргументы:\n",
    "    - model: обученная модель.\n",
    "    - image_path: путь к изображению.\n",
    "    - image_size: размер, до которого изображение будет приведено (по умолчанию 128x128).\n",
    "    \n",
    "    Вывод:\n",
    "    - Отображает оригинальное изображение, зашумленное и предсказанное изображение.\n",
    "    \"\"\"\n",
    "    # Шаг 1: Загрузка изображения\n",
    "    image = tf.io.read_file(image_path)\n",
    "    image = tf.image.decode_png(image, channels=1)  # Градации серого\n",
    "    image = tf.image.resize(image, IMG_SIZE)  # Изменение размера\n",
    "    image = tf.cast(image, tf.float32) / 255.0  # Нормализация в диапазон [0, 1]\n",
    "    \n",
    "    # Добавляем дополнительную ось для батча (нужно для модели)\n",
    "    noisy_image = tf.expand_dims(image, axis=0)\n",
    "\n",
    "    # Шаг 2: Прогоняем через модель\n",
    "    predicted_image = model.predict(noisy_image)\n",
    "\n",
    "    # Шаг 3: Отображение изображений\n",
    "    fig, axes = plt.subplots(1, 2, figsize=(10, 5))\n",
    "    fig.suptitle(\"Check predictions NW\", fontsize=16)\n",
    "\n",
    "    # Оригинальное изображение (чистое)\n",
    "    axes[0].imshow(image.numpy().squeeze(), cmap='gray')\n",
    "    axes[0].set_title(\"INPUT\")\n",
    "    axes[0].axis(\"off\")\n",
    "\n",
    "    # Зашумленное изображение\n",
    "    # axes[1].imshow(noisy_image.numpy().squeeze(), cmap='gray')\n",
    "    # axes[1].set_title(\"NW's img\")\n",
    "    # axes[1].axis(\"off\")\n",
    "\n",
    "    # Предсказанное изображение\n",
    "    axes[1].imshow(predicted_image.squeeze(), cmap='gray')\n",
    "    axes[1].set_title(\"OUTPUT\")\n",
    "    axes[1].axis(\"off\")\n",
    "\n",
    "    plt.tight_layout(rect=[0, 0, 1, 0.95])\n",
    "    plt.show()\n",
    "    \n",
    "def predict_image_with_losses(model, image_path, clean_image_path, image_size=(128, 128)):\n",
    "    \"\"\"\n",
    "    Прогоняет изображение через модель и отображает его с предсказанием, значением функции потерь для входного и выходного изображения.\n",
    "    \n",
    "    Аргументы:\n",
    "    - model: обученная модель.\n",
    "    - image_path: путь к зашумленному изображению.\n",
    "    - clean_image_path: путь к чистому изображению.\n",
    "    - image_size: размер, до которого изображение будет приведено (по умолчанию 128x128).\n",
    "    \"\"\"\n",
    "    # Загрузка и обработка зашумленного изображения\n",
    "    noisy_image = tf.io.read_file(image_path)\n",
    "    noisy_image = tf.image.decode_png(noisy_image, channels=1)\n",
    "    noisy_image = tf.image.resize(noisy_image, image_size)\n",
    "    noisy_image = tf.cast(noisy_image, tf.float32) / 255.0\n",
    "    noisy_image_batch = tf.expand_dims(noisy_image, axis=0)  # Для модели\n",
    "\n",
    "    # Загрузка и обработка чистого изображения\n",
    "    clean_image = tf.io.read_file(clean_image_path)\n",
    "    clean_image = tf.image.decode_png(clean_image, channels=1)\n",
    "    clean_image = tf.image.resize(clean_image, image_size)\n",
    "    clean_image = tf.cast(clean_image, tf.float32) / 255.0\n",
    "\n",
    "    # Прогоняем через модель\n",
    "    predicted_image = model.predict(noisy_image_batch)[0]\n",
    "\n",
    "    # Вычисление функций потерь (MSE) для входного и выходного изображения\n",
    "    mse_input = tf.keras.losses.MeanSquaredError()(clean_image, noisy_image).numpy()\n",
    "    mse_output = tf.keras.losses.MeanSquaredError()(clean_image, predicted_image).numpy()\n",
    "    kappa = mse_input - mse_output\n",
    "    psi = mse_input / mse_output\n",
    "\n",
    "    # Отображение изображений\n",
    "    fig, axes = plt.subplots(1, 2, figsize=(15, 5))\n",
    "    fig.suptitle(f\"L_in: {mse_input:.4f}, L_out: {mse_output:.4f}, kappa: {kappa}, psi: {psi}\", fontsize=16)\n",
    "\n",
    "    # Входное зашумленное изображение\n",
    "    axes[0].imshow(noisy_image.numpy().squeeze(), cmap='gray')\n",
    "    axes[0].set_title(\"Noisy Input\")\n",
    "    axes[0].axis(\"off\")\n",
    "\n",
    "    # Истинное изображение\n",
    "    # axes[1].imshow(clean_image.numpy().squeeze(), cmap='gray')\n",
    "    # axes[1].set_title(\"Clean Image\")\n",
    "    # axes[1].axis(\"off\")\n",
    "\n",
    "    # Предсказанное изображение\n",
    "    axes[1].imshow(predicted_image.squeeze(), cmap='gray')\n",
    "    axes[1].set_title(\"Predicted Output\")\n",
    "    axes[1].axis(\"off\")\n",
    "\n",
    "    plt.tight_layout(rect=[0, 0, 1, 0.95])\n",
    "    plt.show()\n",
    " \n",
    " \n",
    "def predict_with_losses(model, image_path, clean_image_path, image_size=(128, 128)):\n",
    "    \"\"\"\n",
    "    Прогоняет изображение через модель и отображает его с предсказанием, значением функции потерь для входного и выходного изображения.\n",
    "    \n",
    "    Аргументы:\n",
    "    - model: обученная модель.\n",
    "    - image_path: путь к зашумленному изображению.\n",
    "    - clean_image_path: путь к чистому изображению.\n",
    "    - image_size: размер, до которого изображение будет приведено (по умолчанию 128x128).\n",
    "    \"\"\"\n",
    "    # Загрузка и обработка зашумленного изображения\n",
    "    noisy_image = tf.io.read_file(image_path)\n",
    "    noisy_image = tf.image.decode_png(noisy_image, channels=1)\n",
    "    noisy_image = tf.image.resize(noisy_image, image_size)\n",
    "    noisy_image = tf.cast(noisy_image, tf.float32) / 255.0\n",
    "    noisy_image_batch = tf.expand_dims(noisy_image, axis=0)  # Для модели\n",
    "\n",
    "    # Загрузка и обработка чистого изображения\n",
    "    clean_image = tf.io.read_file(clean_image_path)\n",
    "    clean_image = tf.image.decode_png(clean_image, channels=1)\n",
    "    clean_image = tf.image.resize(clean_image, image_size)\n",
    "    clean_image = tf.cast(clean_image, tf.float32) / 255.0\n",
    "\n",
    "    # Прогоняем через модель\n",
    "    predicted_image = model.predict(noisy_image_batch)[0]\n",
    "\n",
    "    # Вычисление функций потерь (MSE) для входного и выходного изображения\n",
    "    mse_input = tf.keras.losses.MeanSquaredError()(clean_image, noisy_image).numpy()\n",
    "    mse_output = tf.keras.losses.MeanSquaredError()(clean_image, predicted_image).numpy()\n",
    "    kappa = mse_input - mse_output\n",
    "    psi = mse_input / mse_output\n",
    "    print(f\"L_in: {mse_input:.4f}, L_out: {mse_output:.4f}, kappa: {kappa}, psi: {psi}\")\n",
    "\n",
    "    \n",
    "def save_predicted_image(model, image_path, output_path, image_size=(128, 128)):\n",
    "    \"\"\"\n",
    "    Прогоняет изображение через модель и сохраняет предсказанное изображение в формате PNG.\n",
    "    \n",
    "    Аргументы:\n",
    "    - model: обученная модель.\n",
    "    - image_path: путь к зашумленному изображению.\n",
    "    - output_path: путь для сохранения предсказанного изображения.\n",
    "    - image_size: размер, до которого изображение будет приведено (по умолчанию 128x128).\n",
    "    \"\"\"\n",
    "    # Загрузка и обработка зашумленного изображения\n",
    "    noisy_image = tf.io.read_file(image_path)\n",
    "    noisy_image = tf.image.decode_png(noisy_image, channels=1)\n",
    "    noisy_image = tf.image.resize(noisy_image, image_size)\n",
    "    noisy_image = tf.cast(noisy_image, tf.float32) / 255.0\n",
    "    noisy_image_batch = tf.expand_dims(noisy_image, axis=0)  # Для модели\n",
    "\n",
    "    # Прогон через модель\n",
    "    predicted_image = model.predict(noisy_image_batch)[0]\n",
    "\n",
    "    # Преобразование в 8-битное изображение (диапазон 0-255)\n",
    "    predicted_image = np.clip(predicted_image * 255, 0, 255).astype(np.uint8)\n",
    "\n",
    "    # Сохранение изображения\n",
    "    tf.keras.preprocessing.image.save_img(output_path, predicted_image, scale=False)\n",
    "    print(f\"Предсказанное изображение сохранено по пути: {output_path}\")\n",
    "\n"
   ],
   "id": "135187653f7b2904",
   "outputs": [],
   "execution_count": 15
  },
  {
   "metadata": {
    "ExecuteTime": {
     "end_time": "2024-12-17T17:04:38.892305Z",
     "start_time": "2024-12-17T17:04:37.058072Z"
    }
   },
   "cell_type": "code",
   "source": [
    "model = tf.keras.models.load_model(\"SAVED_MODELS/model_08_12_24_ds2_1.keras\")\n",
    "\n",
    "\n",
    "image_path = \"DATASETS/DATASET_4/fig1/noize/190.png\"  \n",
    "clear_path = \"DATASETS/DATASET_4/fig1/clear/190.png\"\n",
    "predict_with_losses(model, image_path, clear_path)\n",
    "\n",
    "image_path = \"DATASETS/DATASET_4/fig2/noize/325.png\"  \n",
    "clear_path = \"DATASETS/DATASET_4/fig2/clear/325.png\"\n",
    "predict_with_losses(model, image_path, clear_path)\n",
    "\n",
    "image_path = \"DATASETS/DATASET_4/fig3/noize/43.png\"  \n",
    "clear_path = \"DATASETS/DATASET_4/fig3/clear/43.png\"\n",
    "predict_with_losses(model, image_path, clear_path)\n",
    "\n",
    "image_path = \"DATASETS/DATASET_4/fig4/noize/134.png\"  \n",
    "clear_path = \"DATASETS/DATASET_4/fig4/clear/134.png\"\n",
    "predict_with_losses(model, image_path, clear_path)\n",
    "\n",
    "image_path = \"DATASETS/DATASET_4/fig5/noize/183.png\"  \n",
    "clear_path = \"DATASETS/DATASET_4/fig5/clear/183.png\"\n",
    "predict_with_losses(model, image_path, clear_path)\n",
    "\n",
    "\n",
    "# image_path = \"DATASETS/DATASET_4/fig1/noize/190.png\"  \n",
    "# clear_path = \"DATASETS/DATASET_4/fig1/clear/190.png\"\n",
    "# predict_image_with_losses(model, image_path, clear_path)\n",
    "# \n",
    "# image_path = \"DATASETS/DATASET_4/fig2/noize/325.png\"  \n",
    "# clear_path = \"DATASETS/DATASET_4/fig2/clear/325.png\"\n",
    "# predict_image_with_losses(model, image_path, clear_path)\n",
    "# \n",
    "# image_path = \"DATASETS/DATASET_4/fig3/noize/43.png\"  \n",
    "# clear_path = \"DATASETS/DATASET_4/fig3/clear/43.png\"\n",
    "# predict_image_with_losses(model, image_path, clear_path)\n",
    "# \n",
    "# image_path = \"DATASETS/DATASET_4/fig4/noize/134.png\"  \n",
    "# clear_path = \"DATASETS/DATASET_4/fig4/clear/134.png\"\n",
    "# predict_image_with_losses(model, image_path, clear_path)\n",
    "# \n",
    "# image_path = \"DATASETS/DATASET_4/fig5/noize/183.png\"  \n",
    "# clear_path = \"DATASETS/DATASET_4/fig5/clear/183.png\"\n",
    "# predict_image_with_losses(model, image_path, clear_path)\n",
    "\n",
    "# image_path = \"DATASETS/DATASET_2/fig1/1.png\"  \n",
    "# clear_path = \"DATASETS/DATASET_2/truefig1/1.png\"\n",
    "# predict_image_with_losses(model, image_path, clear_path)\n",
    "# \n",
    "# image_path = \"DATASETS/DATASET_2/fig2/1.png\"  \n",
    "# clear_path = \"DATASETS/DATASET_2/truefig2/2.png\"\n",
    "# predict_image_with_losses(model, image_path, clear_path)\n",
    "# \n",
    "# image_path = \"DATASETS/DATASET_2/fig3/1.png\"  \n",
    "# clear_path = \"DATASETS/DATASET_2/truefig3/3.png\"\n",
    "# predict_image_with_losses(model, image_path, clear_path)\n",
    "# \n",
    "# image_path = \"DATASETS/DATASET_2/fig4/1.png\"  \n",
    "# clear_path = \"DATASETS/DATASET_2/truefig4/4.png\"\n",
    "# predict_image_with_losses(model, image_path, clear_path)\n",
    "# \n",
    "# image_path = \"DATASETS/DATASET_2/fig5/1.png\"  \n",
    "# clear_path = \"DATASETS/DATASET_2/truefig5/5.png\"\n",
    "# predict_image_with_losses(model, image_path, clear_path)\n"
   ],
   "id": "4c2c5dedd3ebc26d",
   "outputs": [
    {
     "name": "stdout",
     "output_type": "stream",
     "text": [
      "\u001B[1m1/1\u001B[0m \u001B[32m━━━━━━━━━━━━━━━━━━━━\u001B[0m\u001B[37m\u001B[0m \u001B[1m1s\u001B[0m 950ms/step\n",
      "L_in: 0.0113, L_out: 0.0063, kappa: 0.005011239554733038, psi: 1.7948836088180542\n",
      "\u001B[1m1/1\u001B[0m \u001B[32m━━━━━━━━━━━━━━━━━━━━\u001B[0m\u001B[37m\u001B[0m \u001B[1m0s\u001B[0m 48ms/step\n",
      "L_in: 0.0093, L_out: 0.0071, kappa: 0.0022155623883008957, psi: 1.3131492137908936\n",
      "\u001B[1m1/1\u001B[0m \u001B[32m━━━━━━━━━━━━━━━━━━━━\u001B[0m\u001B[37m\u001B[0m \u001B[1m0s\u001B[0m 65ms/step\n",
      "L_in: 0.0104, L_out: 0.0096, kappa: 0.0008087465539574623, psi: 1.0842758417129517\n",
      "\u001B[1m1/1\u001B[0m \u001B[32m━━━━━━━━━━━━━━━━━━━━\u001B[0m\u001B[37m\u001B[0m \u001B[1m0s\u001B[0m 57ms/step\n",
      "L_in: 0.0129, L_out: 0.0052, kappa: 0.007677535060793161, psi: 2.468792676925659\n",
      "\u001B[1m1/1\u001B[0m \u001B[32m━━━━━━━━━━━━━━━━━━━━\u001B[0m\u001B[37m\u001B[0m \u001B[1m0s\u001B[0m 64ms/step\n",
      "L_in: 0.0095, L_out: 0.0217, kappa: -0.012228873558342457, psi: 0.4368063807487488\n"
     ]
    }
   ],
   "execution_count": 16
  },
  {
   "metadata": {
    "ExecuteTime": {
     "end_time": "2024-12-17T17:09:06.480644Z",
     "start_time": "2024-12-17T17:09:06.471641Z"
    }
   },
   "cell_type": "code",
   "source": "",
   "id": "50ce569c2ee564ab",
   "outputs": [
    {
     "data": {
      "text/plain": [
       "1.9"
      ]
     },
     "execution_count": 18,
     "metadata": {},
     "output_type": "execute_result"
    }
   ],
   "execution_count": 18
  },
  {
   "metadata": {
    "ExecuteTime": {
     "end_time": "2024-12-17T17:18:38.636463Z",
     "start_time": "2024-12-17T17:18:36.595031Z"
    }
   },
   "cell_type": "code",
   "source": [
    "model = tf.keras.models.load_model(\"SAVED_MODELS/model_19.11.24_ds3_1.keras\")\n",
    "\n",
    "image_path = \"DATASETS/DATASET_4/fig1/noize/190.png\"  \n",
    "clear_path = \"DATASETS/DATASET_4/fig1/clear/190.png\"\n",
    "predict_with_losses(model, image_path, clear_path)\n",
    "\n",
    "image_path = \"DATASETS/DATASET_4/fig2/noize/325.png\"  \n",
    "clear_path = \"DATASETS/DATASET_4/fig2/clear/325.png\"\n",
    "predict_with_losses(model, image_path, clear_path)\n",
    "\n",
    "image_path = \"DATASETS/DATASET_4/fig3/noize/43.png\"  \n",
    "clear_path = \"DATASETS/DATASET_4/fig3/clear/43.png\"\n",
    "predict_with_losses(model, image_path, clear_path)\n",
    "\n",
    "image_path = \"DATASETS/DATASET_4/fig4/noize/134.png\"  \n",
    "clear_path = \"DATASETS/DATASET_4/fig4/clear/134.png\"\n",
    "predict_with_losses(model, image_path, clear_path)\n",
    "\n",
    "image_path = \"DATASETS/DATASET_4/fig5/noize/183.png\"  \n",
    "clear_path = \"DATASETS/DATASET_4/fig5/clear/183.png\"\n",
    "predict_with_losses(model, image_path, clear_path)"
   ],
   "id": "1c52e11e9324c26c",
   "outputs": [
    {
     "name": "stdout",
     "output_type": "stream",
     "text": [
      "\u001B[1m1/1\u001B[0m \u001B[32m━━━━━━━━━━━━━━━━━━━━\u001B[0m\u001B[37m\u001B[0m \u001B[1m1s\u001B[0m 1s/step\n",
      "L_in: 0.0113, L_out: 0.0007, kappa: 0.010657448321580887, psi: 17.192798614501953\n",
      "\u001B[1m1/1\u001B[0m \u001B[32m━━━━━━━━━━━━━━━━━━━━\u001B[0m\u001B[37m\u001B[0m \u001B[1m0s\u001B[0m 50ms/step\n",
      "L_in: 0.0093, L_out: 0.0005, kappa: 0.00882982462644577, psi: 20.160303115844727\n",
      "\u001B[1m1/1\u001B[0m \u001B[32m━━━━━━━━━━━━━━━━━━━━\u001B[0m\u001B[37m\u001B[0m \u001B[1m0s\u001B[0m 56ms/step\n",
      "L_in: 0.0104, L_out: 0.0002, kappa: 0.0102007444947958, psi: 50.8993034362793\n",
      "\u001B[1m1/1\u001B[0m \u001B[32m━━━━━━━━━━━━━━━━━━━━\u001B[0m\u001B[37m\u001B[0m \u001B[1m0s\u001B[0m 54ms/step\n",
      "L_in: 0.0129, L_out: 0.0019, kappa: 0.010955915786325932, psi: 6.622091770172119\n",
      "\u001B[1m1/1\u001B[0m \u001B[32m━━━━━━━━━━━━━━━━━━━━\u001B[0m\u001B[37m\u001B[0m \u001B[1m0s\u001B[0m 54ms/step\n",
      "L_in: 0.0095, L_out: 0.0104, kappa: -0.0008707316592335701, psi: 0.9159144163131714\n"
     ]
    }
   ],
   "execution_count": 19
  },
  {
   "metadata": {
    "ExecuteTime": {
     "end_time": "2024-12-06T13:42:02.328443Z",
     "start_time": "2024-12-06T13:42:01.711834Z"
    }
   },
   "cell_type": "code",
   "source": [
    "image_path = \"DATASETS/DATASET_4/fig4/noize/25.png\"  \n",
    "clear_path = \"DATASETS/DATASET_4/fig4/clear/25.png\"\n",
    "predict_image_with_losses(model, image_path, clear_path)\n",
    "#save_predicted_image(model, image_path, \"res_n2_8.png\")"
   ],
   "id": "e4b7a0d74c96ab6b",
   "outputs": [
    {
     "name": "stdout",
     "output_type": "stream",
     "text": [
      "\u001B[1m1/1\u001B[0m \u001B[32m━━━━━━━━━━━━━━━━━━━━\u001B[0m\u001B[37m\u001B[0m \u001B[1m0s\u001B[0m 72ms/step\n"
     ]
    },
    {
     "data": {
      "text/plain": [
       "<Figure size 1500x500 with 2 Axes>"
      ],
      "image/png": "[encoded data removed]"
     },
     "metadata": {},
     "output_type": "display_data"
    }
   ],
   "execution_count": 28
  },
  {
   "metadata": {
    "ExecuteTime": {
     "end_time": "2024-12-06T13:15:51.257940Z",
     "start_time": "2024-12-06T13:15:51.237946Z"
    }
   },
   "cell_type": "code",
   "source": "",
   "id": "54c5b82d5c074bf1",
   "outputs": [],
   "execution_count": null
  }
 ],
 "metadata": {
  "kernelspec": {
   "display_name": "Python 3",
   "language": "python",
   "name": "python3"
  },
  "language_info": {
   "codemirror_mode": {
    "name": "ipython",
    "version": 2
   },
   "file_extension": ".py",
   "mimetype": "text/x-python",
   "name": "python",
   "nbconvert_exporter": "python",
   "pygments_lexer": "ipython2",
   "version": "2.7.6"
  }
 },
 "nbformat": 4,
 "nbformat_minor": 5
}
